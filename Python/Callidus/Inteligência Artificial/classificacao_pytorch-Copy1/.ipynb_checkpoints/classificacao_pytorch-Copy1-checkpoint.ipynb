{
 "cells": [
  {
   "cell_type": "markdown",
   "metadata": {
    "colab_type": "text",
    "id": "JDM84H0wO5I_"
   },
   "source": [
    "# Carregamento de Dados\n",
    "\n",
    "Objetivos dessa aula:\n",
    "* Carregar dados reais do Pytorch\n",
    "* Implementar o fluxo de treinamento completo de uma rede"
   ]
  },
  {
   "cell_type": "markdown",
   "metadata": {
    "colab_type": "text",
    "id": "Qg_W2-tDlpz3"
   },
   "source": [
    "## Hiperparâmetros\n",
    "\n",
    "Com o objetivo de simplificar a compreensão e a manutenção do código, é recomendado manter consistentemente no início os seguintes elementos:\n",
    "\n",
    "* imports de pacotes\n",
    "* configuração de hiperparâmetros\n",
    "* definição do hardware padrão utilizado\n",
    "\n",
    "Durante esta aula, será necessário utilizar uma GPU para lidar com dados reais. Recomenda-se executar o mesmo código em outro momento, sem a utilização da GPU, para experimentar as vantagens que ela oferece no contexto de redes neurais.\n",
    "\n",
    "Caso esteja utilizando o pytorch pela primeira vez é necessário realizar a instalação do pacote por meio do comando: \n",
    "`\n",
    "conda install pytorch torchvision torchaudio pytorch-cuda=11.8 -c pytorch -c nvidia\n",
    "`\n",
    "\n",
    "# Import de pacotes\n",
    "\n",
    "```\n",
    "import torch\n",
    "from torch import nn, optim\n",
    "\n",
    "from torchvision import datasets\n",
    "from torchvision import transforms \n",
    "\n",
    "from torch.utils.data import DataLoader\n",
    "\n",
    "import matplotlib.pyplot as plt\n",
    "import numpy as np\n",
    "import time\n",
    "```"
   ]
  },
  {
   "cell_type": "code",
   "execution_count": 1,
   "metadata": {
    "colab": {
     "base_uri": "https://localhost:8080/",
     "height": 36
    },
    "colab_type": "code",
    "executionInfo": {
     "elapsed": 1072,
     "status": "ok",
     "timestamp": 1576693565914,
     "user": {
      "displayName": "Camila Laranjeira",
      "photoUrl": "https://lh3.googleusercontent.com/a-/AAuE7mCfgXxjTVPyGE0vH1sGz0gI39poyLbeKld6jeGHhEg=s64",
      "userId": "03895474106233302954"
     },
     "user_tz": 180
    },
    "id": "BwF0L2d6lH5O",
    "is_executing": true,
    "outputId": "e65d8631-eaf2-4f30-b604-7e6842a99ace"
   },
   "outputs": [],
   "source": [
    "import torch\n",
    "from torch import nn, optim\n",
    "\n",
    "from torchvision import datasets\n",
    "from torchvision import transforms \n",
    "\n",
    "from torch.utils.data import DataLoader\n",
    "\n",
    "import matplotlib.pyplot as plt\n",
    "import numpy as np\n",
    "import time"
   ]
  },
  {
   "cell_type": "markdown",
   "metadata": {},
   "source": [
    "# Configuração de hiperparâmetros\n",
    "```\n",
    "args = {\n",
    "    'batch_size': 5,\n",
    "    'num_workers': 4,\n",
    "    'num_classes': 10,\n",
    "    'lr': 1e-4,\n",
    "    'weight_decay': 5e-4,\n",
    "    'num_epochs': 30\n",
    "}\n",
    "\n",
    "if torch.cuda.is_available():\n",
    "  args['device'] = torch.device('cuda')\n",
    "else:\n",
    "  args['device'] = torch.device('cpu')\n",
    "\n",
    "print(args['device'])\n",
    "```"
   ]
  },
  {
   "cell_type": "code",
   "execution_count": 2,
   "metadata": {
    "ExecuteTime": {
     "end_time": "2023-07-29T19:35:24.602942400Z",
     "start_time": "2023-07-29T19:35:24.524369200Z"
    }
   },
   "outputs": [
    {
     "name": "stdout",
     "output_type": "stream",
     "text": [
      "cpu\n"
     ]
    }
   ],
   "source": [
    "args = {\n",
    "    'batch_size': 50,\n",
    "    'num_workers': 4,\n",
    "    'num_classes': 10,\n",
    "    'lr': 1e-4,\n",
    "    'weight_decay': 5e-4,\n",
    "    'num_epochs': 30\n",
    "}\n",
    "\n",
    "if torch.cuda.is_available():\n",
    "  args['device'] = torch.device('cuda')\n",
    "else:\n",
    "  args['device'] = torch.device('cpu')\n",
    "\n",
    "print(args['device'])"
   ]
  },
  {
   "cell_type": "markdown",
   "metadata": {
    "colab_type": "text",
    "id": "bsFc4SPtRKM-"
   },
   "source": [
    "## Datasets\n",
    "\n",
    "O PyTorch possui dois pacotes que trazem datasets prontos para uso.\n",
    "\n",
    "* Torchtext: https://torchtext.readthedocs.io/en/latest/datasets.html\n",
    "* Torchvision: https://pytorch.org/docs/stable/torchvision/datasets.html\n",
    "\n",
    "Como os nomes indicam, são datasets de textos (text) e imagens (vision), duas aplicações onde redes neurais são muito bem sucedidas.\n",
    "\n",
    "Para aplicações com textos e outros tipos de séries temporais, o carregamento de dados possui nuances que dificultam o entendimento, portanto vamos concentrar no carregamento de imagens.\n",
    "\n",
    "### Torchvision datasets\n",
    "\n",
    "Para trabalhar com datasets do pacote torchvision, basta\n",
    "* Importar o pacote\n",
    "``` python \n",
    "from torchvision import datasets \n",
    "```\n",
    "* Carregar o dataset do seu interesse (ex: MNIST)\n",
    "``` python \n",
    "data = datasets.MNIST(root, train=True, transform=None, target_transform=None, download=False)\n",
    "```\n",
    "\n",
    "Documentação: https://pytorch.org/docs/stable/torchvision/datasets.html\n",
    "\n",
    "### Torchvision transforms\n",
    "\n",
    "Durante o curso de visão computacional, serão abordadas as nuances das transformações de imagens. No entanto, é importante ressaltar que, independentemente do dataset utilizado, é necessário convertê-lo em um tensor para alimentar uma rede em PyTorch. Essa conversão pode ser realizada durante o processo de carregamento dos dados, bastando seguir os seguintes passos:\n",
    "\n",
    "* Importar o pacote transforms\n",
    "``` python \n",
    "from torchvision import transforms \n",
    "```\n",
    "* preencher o parâmetro ```tranform``` do dataset com a função que converte para tensor.\n",
    "``` python \n",
    "transforms.ToTensor() \n",
    "```\n",
    "\n",
    "Pronto! Quando seu dado for carregado, ele passará pela transformação indicada no parâmetro ```tranform```, nesse caso, convertendo o dado para um tensor.\n",
    "\n",
    "Documentação: https://pytorch.org/docs/stable/torchvision/transforms.html\n",
    "\n",
    "```\n",
    "train_set = datasets.MNIST('./', \n",
    "                           train=True, \n",
    "                           transform=transforms.ToTensor(),\n",
    "                           download=True)\n",
    "\n",
    "test_set = datasets.MNIST('./', \n",
    "                           train=False, \n",
    "                           transform=transforms.ToTensor(),\n",
    "                           download=False)\n",
    "\n",
    "print('Amostras de treino: ' + str(len(train_set)) + '\\nAmostras de Teste:' + str(len(test_set)))\n",
    "```\n"
   ]
  },
  {
   "cell_type": "code",
   "execution_count": 3,
   "metadata": {
    "ExecuteTime": {
     "end_time": "2023-07-29T19:35:26.284184700Z",
     "start_time": "2023-07-29T19:35:24.571667900Z"
    },
    "colab": {
     "base_uri": "https://localhost:8080/",
     "height": 316
    },
    "colab_type": "code",
    "executionInfo": {
     "elapsed": 8314,
     "status": "ok",
     "timestamp": 1576689160593,
     "user": {
      "displayName": "Camila Laranjeira",
      "photoUrl": "https://lh3.googleusercontent.com/a-/AAuE7mCfgXxjTVPyGE0vH1sGz0gI39poyLbeKld6jeGHhEg=s64",
      "userId": "03895474106233302954"
     },
     "user_tz": 180
    },
    "id": "gTf4IYONRJvW",
    "outputId": "b8d48b29-9f8b-4945-bd83-5b7748246876"
   },
   "outputs": [
    {
     "name": "stdout",
     "output_type": "stream",
     "text": [
      "Amostras de treino: 60000\n",
      "Amostras de Teste:10000\n"
     ]
    }
   ],
   "source": [
    "train_set = datasets.MNIST('./', \n",
    "                           train=True, \n",
    "                           transform=transforms.ToTensor(),\n",
    "                           download=True)\n",
    "\n",
    "test_set = datasets.MNIST('./', \n",
    "                           train=False, \n",
    "                           transform=transforms.ToTensor(),\n",
    "                           download=False)\n",
    "\n",
    "print('Amostras de treino: ' + str(len(train_set)) + '\\nAmostras de Teste:' + str(len(test_set)))"
   ]
  },
  {
   "cell_type": "markdown",
   "metadata": {
    "colab_type": "text",
    "id": "phD86edTqUsL"
   },
   "source": [
    "Cada dataset possui uma implementação específica internamente no pytorch. Verifique o ```type``` da variável que recebeu os dados e veja que se refere a uma classe específica do dataset.\n",
    "\n",
    "No entanto, o item de qualquer dataset **sempre será uma tupla ```(dado, rótulo)```**. \n",
    "```\n",
    "print(type(train_set))\n",
    "print(type(train_set[0]))\n",
    "```"
   ]
  },
  {
   "cell_type": "code",
   "execution_count": 4,
   "metadata": {
    "ExecuteTime": {
     "end_time": "2023-07-29T19:35:26.299832800Z",
     "start_time": "2023-07-29T19:35:25.921732900Z"
    },
    "colab": {
     "base_uri": "https://localhost:8080/",
     "height": 54
    },
    "colab_type": "code",
    "executionInfo": {
     "elapsed": 8306,
     "status": "ok",
     "timestamp": 1576689160596,
     "user": {
      "displayName": "Camila Laranjeira",
      "photoUrl": "https://lh3.googleusercontent.com/a-/AAuE7mCfgXxjTVPyGE0vH1sGz0gI39poyLbeKld6jeGHhEg=s64",
      "userId": "03895474106233302954"
     },
     "user_tz": 180
    },
    "id": "WCT6dYK-mDvO",
    "outputId": "2c5ecbc3-b9fc-46ff-9d33-933ce9f105e4"
   },
   "outputs": [
    {
     "name": "stdout",
     "output_type": "stream",
     "text": [
      "<class 'torchvision.datasets.mnist.MNIST'>\n",
      "<class 'tuple'>\n"
     ]
    }
   ],
   "source": [
    "print(type(train_set))\n",
    "print(type(train_set[0]))"
   ]
  },
  {
   "cell_type": "markdown",
   "metadata": {
    "colab_type": "text",
    "id": "faiKU3bAbCn4"
   },
   "source": [
    "Podemos então iterar no dataset para observar algumas amostras e seus rótulos."
   ]
  },
  {
   "cell_type": "markdown",
   "metadata": {},
   "source": [
    "```\n",
    "for i in range(3):\n",
    "    dado, rotulo = train_set[i]\n",
    "\n",
    "    plt.figure()\n",
    "    plt.imshow(dado[0])\n",
    "    plt.title('Rotulo: '+ str(rotulo))\n",
    "```"
   ]
  },
  {
   "cell_type": "code",
   "execution_count": 5,
   "metadata": {
    "ExecuteTime": {
     "end_time": "2023-07-29T19:35:29.722101900Z",
     "start_time": "2023-07-29T19:35:25.984662700Z"
    },
    "colab": {
     "base_uri": "https://localhost:8080/",
     "height": 809
    },
    "colab_type": "code",
    "executionInfo": {
     "elapsed": 6515,
     "status": "ok",
     "timestamp": 1576689161028,
     "user": {
      "displayName": "Camila Laranjeira",
      "photoUrl": "https://lh3.googleusercontent.com/a-/AAuE7mCfgXxjTVPyGE0vH1sGz0gI39poyLbeKld6jeGHhEg=s64",
      "userId": "03895474106233302954"
     },
     "user_tz": 180
    },
    "id": "osYMtHZxm-xa",
    "outputId": "9e4eab7c-d57e-4487-e516-422bc98d589b"
   },
   "outputs": [
    {
     "data": {
      "image/png": "[encoded data removed]",
      "text/plain": [
       "<Figure size 640x480 with 1 Axes>"
      ]
     },
     "metadata": {},
     "output_type": "display_data"
    },
    {
     "data": {
      "image/png": "[encoded data removed]",
      "text/plain": [
       "<Figure size 640x480 with 1 Axes>"
      ]
     },
     "metadata": {},
     "output_type": "display_data"
    },
    {
     "data": {
      "image/png": "[encoded data removed]",
      "text/plain": [
       "<Figure size 640x480 with 1 Axes>"
      ]
     },
     "metadata": {},
     "output_type": "display_data"
    }
   ],
   "source": [
    "for i in range(3):\n",
    "    dado, rotulo = train_set[i]\n",
    "\n",
    "    plt.figure()\n",
    "    plt.imshow(dado[0])\n",
    "    plt.title('Rotulo: '+ str(rotulo))"
   ]
  },
  {
   "cell_type": "markdown",
   "metadata": {
    "colab_type": "text",
    "id": "3VrnShaaZXfF"
   },
   "source": [
    "Temos um total de 70 mil amostras, mas elas **ainda não estão carregadas na memória** (isso seria bastante custoso). A vantagem da classe ```Dataset``` do Pytorch é que as amostras só são carregadas quando necessário.\n",
    "\n",
    "Sugestão: experimente trocar a transformação do Dataset para\n",
    "```python\n",
    "transforms.RandomCrop(12)\n",
    "```\n",
    "Essa função realiza um recorte aleatório de ```12 x 12``` (pixels) na imagem. Ao carregar a mesma amostra múltiplas vezes, um novo recorte será feito. \n",
    "```\n",
    "crop_set = datasets.MNIST('./', \n",
    "                           train=False, \n",
    "                           transform=transforms.RandomCrop(12),\n",
    "                           download=False)\n",
    "\n",
    "# Tuple (dado, rótulo)\n",
    "for i in range(3):\n",
    "    dado, rotulo = crop_set[0]\n",
    "  \n",
    "    plt.figure()\n",
    "    plt.imshow(dado)\n",
    "    plt.title('Rótulo: '+ str(rotulo))\n",
    "```"
   ]
  },
  {
   "cell_type": "code",
   "execution_count": 6,
   "metadata": {
    "ExecuteTime": {
     "end_time": "2023-07-29T19:35:33.478926300Z",
     "start_time": "2023-07-29T19:35:29.706481900Z"
    },
    "colab": {
     "base_uri": "https://localhost:8080/",
     "height": 809
    },
    "colab_type": "code",
    "executionInfo": {
     "elapsed": 952,
     "status": "ok",
     "timestamp": 1576689233841,
     "user": {
      "displayName": "Camila Laranjeira",
      "photoUrl": "https://lh3.googleusercontent.com/a-/AAuE7mCfgXxjTVPyGE0vH1sGz0gI39poyLbeKld6jeGHhEg=s64",
      "userId": "03895474106233302954"
     },
     "user_tz": 180
    },
    "id": "Iv72f6llTL31",
    "outputId": "f2db8ea8-8422-4518-bcb5-bf3933db8438"
   },
   "outputs": [
    {
     "data": {
      "image/png": "[encoded data removed]",
      "text/plain": [
       "<Figure size 640x480 with 1 Axes>"
      ]
     },
     "metadata": {},
     "output_type": "display_data"
    },
    {
     "data": {
      "image/png": "[encoded data removed]",
      "text/plain": [
       "<Figure size 640x480 with 1 Axes>"
      ]
     },
     "metadata": {},
     "output_type": "display_data"
    },
    {
     "data": {
      "image/png": "[encoded data removed]",
      "text/plain": [
       "<Figure size 640x480 with 1 Axes>"
      ]
     },
     "metadata": {},
     "output_type": "display_data"
    }
   ],
   "source": [
    "crop_set = datasets.MNIST('./', \n",
    "                           train=False, \n",
    "                           transform=transforms.RandomCrop(12),\n",
    "                           download=False)\n",
    "\n",
    "# Tuple (dado, rótulo)\n",
    "for i in range(3):\n",
    "    dado, rotulo = crop_set[0]\n",
    "  \n",
    "    plt.figure()\n",
    "    plt.imshow(dado)\n",
    "    plt.title('Rótulo: '+ str(rotulo))"
   ]
  },
  {
   "cell_type": "markdown",
   "metadata": {
    "colab_type": "text",
    "id": "BO8AVlT4bTQC"
   },
   "source": [
    "Em resumo, cada vez que indexamos um item do dataset, as seguintes operações são realizadas:\n",
    "* Amostra lida do arquivo e carregada como uma tupla ```(dado, rótulo)```\n",
    "* As transformações são aplicadas "
   ]
  },
  {
   "cell_type": "markdown",
   "metadata": {
    "colab_type": "text",
    "id": "yZq6iuq6lQ9N"
   },
   "source": [
    "## Dataloader\n",
    "\n",
    "Essa aqui é uma das principais razões do Pytorch ser o pacote preferido de muitos profissionais. O Dataloader gerencia muito bem o carregamento de dados para o treinamento de redes neurais, trazendo as funções: \n",
    "\n",
    "* Separação dos dados em batches\n",
    "* Embaralhando os dados\n",
    "* Carregando batches em paralelo utilizando threads\n",
    "\n",
    "O uso de threads no carregamento minimiza períodos ociosos de processamento, visto que a leitura de dados em arquivo é um grande gargalo de tempo.\n",
    "\n",
    "As três funcionalidades que acabamos de conhecer são controladas pelos parâmetros da chamada do DataLoader.\n",
    "```python\n",
    "loader = DataLoader(dataset, batch_size=4, shuffle=True, num_workers=4)\n",
    "```\n",
    "\n",
    "```\n",
    "train_loader = DataLoader(train_set, \n",
    "                          batch_size=args['batch_size'], \n",
    "                          shuffle=True, \n",
    "                          num_workers=args['num_workers'])\n",
    "\n",
    "test_loader = DataLoader(test_set, \n",
    "                          batch_size=args['batch_size'], \n",
    "                          shuffle=True, \n",
    "                          num_workers=args['num_workers'])\n",
    "```\n"
   ]
  },
  {
   "cell_type": "code",
   "execution_count": 7,
   "metadata": {
    "ExecuteTime": {
     "end_time": "2023-07-29T19:35:33.554457300Z",
     "start_time": "2023-07-29T19:35:33.480924Z"
    },
    "colab": {},
    "colab_type": "code",
    "id": "xuETOc64MynK"
   },
   "outputs": [],
   "source": [
    "train_loader = DataLoader(train_set, \n",
    "                          batch_size=args['batch_size'], \n",
    "                          shuffle=True, \n",
    "                          num_workers=args['num_workers'])\n",
    "\n",
    "test_loader = DataLoader(test_set, \n",
    "                          batch_size=args['batch_size'], \n",
    "                          shuffle=True, \n",
    "                          num_workers=args['num_workers'])"
   ]
  },
  {
   "cell_type": "markdown",
   "metadata": {
    "colab_type": "text",
    "id": "m_wBx0Uesrgu"
   },
   "source": [
    "O objeto retornado é um **iterador**, podendo ser utilizado para iterar em loops mas não suportando indexação.\n",
    "```\n",
    "for batch in train_loader:\n",
    "  \n",
    "    dado, rotulo = batch\n",
    "    print(dado.size(), rotulo.size())\n",
    "\n",
    "    plt.imshow(dado[0][0])\n",
    "    plt.title('Rotulo: '+ str(rotulo[0]) )\n",
    "    break\n",
    "```"
   ]
  },
  {
   "cell_type": "code",
   "execution_count": 8,
   "metadata": {
    "ExecuteTime": {
     "end_time": "2023-07-29T19:35:48.904485Z",
     "start_time": "2023-07-29T19:35:33.508461800Z"
    },
    "colab": {
     "base_uri": "https://localhost:8080/",
     "height": 300
    },
    "colab_type": "code",
    "executionInfo": {
     "elapsed": 1085,
     "status": "ok",
     "timestamp": 1576689251196,
     "user": {
      "displayName": "Camila Laranjeira",
      "photoUrl": "https://lh3.googleusercontent.com/a-/AAuE7mCfgXxjTVPyGE0vH1sGz0gI39poyLbeKld6jeGHhEg=s64",
      "userId": "03895474106233302954"
     },
     "user_tz": 180
    },
    "id": "6zw1aAcsVCyp",
    "outputId": "06618a8f-23c1-41b8-ed0a-8f935d9e92df"
   },
   "outputs": [
    {
     "name": "stdout",
     "output_type": "stream",
     "text": [
      "torch.Size([50, 1, 28, 28]) torch.Size([50])\n"
     ]
    },
    {
     "data": {
      "image/png": "[encoded data removed]",
      "text/plain": [
       "<Figure size 640x480 with 1 Axes>"
      ]
     },
     "metadata": {},
     "output_type": "display_data"
    }
   ],
   "source": [
    "for batch in train_loader:\n",
    "  \n",
    "    dado, rotulo = batch\n",
    "    print(dado.size(), rotulo.size())\n",
    "\n",
    "    plt.imshow(dado[0][0])\n",
    "    plt.title('Rotulo: '+ str(rotulo[0]) )\n",
    "    break"
   ]
  },
  {
   "cell_type": "markdown",
   "metadata": {
    "colab_type": "text",
    "id": "jPCE1MC8yf02"
   },
   "source": [
    "## Implementando o MLP\n",
    "\n",
    "\n",
    "**Lembrete**: Multi-Layer Perceptrons trabalham somente com dados unidimensionais (vetores). Sendo a imagem com dimensionalidade ```(1, 28, 28)```, precisamos linearizá-la antes de alimentar a rede. Isso implica que o a entrada da rede terá ```input_size = 28 x 28 x 1 = 784```\n",
    "```\n",
    "class MLP(nn.Module):\n",
    "\n",
    "    def __init__(self, input_size, hidden_size, out_size):\n",
    "        super(MLP, self).__init__()\n",
    "\n",
    "        self.features  = nn.Sequential(\n",
    "                      nn.Linear(input_size, hidden_size),\n",
    "                      nn.ReLU(),\n",
    "                      nn.Linear(hidden_size, hidden_size),\n",
    "                      nn.ReLU()\n",
    "                    )\n",
    "        self.out     = nn.Linear(hidden_size, out_size)\n",
    "        self.softmax = nn.Softmax()\n",
    "\n",
    "    def forward(self, X):\n",
    "    \n",
    "        X = X.view(X.size(0), -1)\n",
    "\n",
    "        feature = self.features(X)\n",
    "        output  = self.softmax(self.out(feature))\n",
    "\n",
    "        return output\n",
    "\n",
    "input_size  = 28 * 28\n",
    "hidden_size = 128\n",
    "out_size    = 10 #classes\n",
    "\n",
    "torch.manual_seed(42)\n",
    "net = MLP(input_size, hidden_size, out_size).to(args['device']) #cast na GPU \n",
    "```"
   ]
  },
  {
   "cell_type": "code",
   "execution_count": 9,
   "metadata": {
    "ExecuteTime": {
     "end_time": "2023-07-29T19:35:48.964410400Z",
     "start_time": "2023-07-29T19:35:48.854592500Z"
    },
    "colab": {},
    "colab_type": "code",
    "id": "n-9spUHCUzBm"
   },
   "outputs": [],
   "source": [
    "class MLP(nn.Module):\n",
    "\n",
    "    def __init__(self, input_size, hidden_size, out_size):\n",
    "        super(MLP, self).__init__()\n",
    "\n",
    "        self.features  = nn.Sequential(\n",
    "                      nn.Linear(input_size, hidden_size),\n",
    "                      nn.ReLU(),\n",
    "                      nn.Linear(hidden_size, hidden_size),\n",
    "                      nn.ReLU()\n",
    "                    )\n",
    "        self.out     = nn.Linear(hidden_size, out_size)\n",
    "        self.softmax = nn.Softmax()\n",
    "\n",
    "    def forward(self, X):\n",
    "    \n",
    "        X = X.view(X.size(0), -1)\n",
    "\n",
    "        feature = self.features(X)\n",
    "        output  = self.softmax(self.out(feature))\n",
    "\n",
    "        return output\n",
    "\n",
    "input_size  = 28 * 28\n",
    "hidden_size = 128\n",
    "out_size    = 10 #classes\n",
    "\n",
    "torch.manual_seed(42)\n",
    "net = MLP(input_size, hidden_size, out_size).to(args['device']) #cast na GPU "
   ]
  },
  {
   "cell_type": "markdown",
   "metadata": {
    "colab_type": "text",
    "id": "sb7zTsWV1cyQ"
   },
   "source": [
    "## Definindo loss e otimizador\n",
    "\n",
    "```\n",
    "criterion = nn.CrossEntropyLoss().to(args['device'])\n",
    "optimizer = optim.Adam(net.parameters(), lr=args['lr'], weight_decay=args['weight_decay'])\n",
    "```"
   ]
  },
  {
   "cell_type": "code",
   "execution_count": 10,
   "metadata": {
    "ExecuteTime": {
     "end_time": "2023-07-29T19:35:49.215722400Z",
     "start_time": "2023-07-29T19:35:48.917508700Z"
    },
    "colab": {},
    "colab_type": "code",
    "id": "nx4MecnX1e2E"
   },
   "outputs": [],
   "source": [
    "criterion = nn.CrossEntropyLoss().to(args['device'])\n",
    "optimizer = optim.Adam(net.parameters(), lr=args['lr'], weight_decay=args['weight_decay'])"
   ]
  },
  {
   "cell_type": "markdown",
   "metadata": {
    "colab_type": "text",
    "id": "1ujnT7rl0bjg"
   },
   "source": [
    "# Fluxo de Treinamento\n",
    "\n",
    "Agora vamos aplicar o conhecimento que acabamos de aprender!\n",
    "\n",
    "Relembrando o passo a passo do fluxo de treinamento:\n",
    "* Iterar nas épocas\n",
    "* Iterar nos batches\n",
    "* Cast dos dados no dispositivo de hardware\n",
    "* Forward na rede e cálculo da loss\n",
    "* Cálculo do gradiente e atualização dos pesos\n",
    "\n",
    "Para acompanhar a convergência do seu modelo (e garantir que tudo foi feito certinho), ao final de cada época podemos imprimir a média e o desvio padrão das perdas de cada iteração.\n",
    "```\n",
    "for epoch in range(args['num_epochs']):\n",
    "    start = time.time()\n",
    "\n",
    "    epoch_loss = []\n",
    "    for batch in train_loader:\n",
    "    \n",
    "        dado, rotulo = batch\n",
    "\n",
    "        # Cast na GPU\n",
    "        dado   = dado.to(args['device'])\n",
    "        rotulo = rotulo.to(args['device'])\n",
    "\n",
    "        # Forward \n",
    "        pred = net(dado)\n",
    "        loss = criterion(pred, rotulo)\n",
    "        epoch_loss.append(loss.cpu().data)\n",
    "\n",
    "        # Backward\n",
    "        loss.backward()\n",
    "        optimizer.step()\n",
    "\n",
    "    epoch_loss = np.asarray(epoch_loss)\n",
    "    end = time.time()\n",
    "\n",
    "    print(\"Epoca %d, Loss: %.4f +\\- %.4f, Tempo: %.2f\" % (epoch, epoch_loss.mean(), epoch_loss.std(), end-start) )\n",
    "```"
   ]
  },
  {
   "cell_type": "code",
   "execution_count": 11,
   "metadata": {
    "ExecuteTime": {
     "end_time": "2023-07-29T19:35:49.215722400Z",
     "start_time": "2023-07-29T19:35:48.933158300Z"
    }
   },
   "outputs": [
    {
     "name": "stdout",
     "output_type": "stream",
     "text": [
      "cpu\n"
     ]
    }
   ],
   "source": [
    "print(args['device'])"
   ]
  },
  {
   "cell_type": "code",
   "execution_count": null,
   "metadata": {
    "ExecuteTime": {
     "end_time": "2023-07-29T19:39:29.984452300Z",
     "start_time": "2023-07-29T19:35:48.995657200Z"
    },
    "colab": {
     "base_uri": "https://localhost:8080/",
     "height": 617
    },
    "colab_type": "code",
    "executionInfo": {
     "elapsed": 1131491,
     "status": "ok",
     "timestamp": 1576694708836,
     "user": {
      "displayName": "Camila Laranjeira",
      "photoUrl": "https://lh3.googleusercontent.com/a-/AAuE7mCfgXxjTVPyGE0vH1sGz0gI39poyLbeKld6jeGHhEg=s64",
      "userId": "03895474106233302954"
     },
     "user_tz": 180
    },
    "id": "KNuBUUrS0VCn",
    "outputId": "b76fd026-186d-4e92-bf3e-4c849139ea5a"
   },
   "outputs": [
    {
     "name": "stderr",
     "output_type": "stream",
     "text": [
      "C:\\Users\\mateu\\AppData\\Local\\Temp\\ipykernel_2884\\1274302302.py:20: UserWarning: Implicit dimension choice for softmax has been deprecated. Change the call to include dim=X as an argument.\n",
      "  output  = self.softmax(self.out(feature))\n"
     ]
    },
    {
     "name": "stdout",
     "output_type": "stream",
     "text": [
      "Epoca 0, Loss: 1.8237, Val_Loss 1.7317, +\\- 0.1637, Tempo: 28.62\n",
      "Epoca 1, Loss: 1.7160, Val_Loss 1.7067, +\\- 0.0633, Tempo: 31.72\n",
      "Epoca 2, Loss: 1.7150, Val_Loss 1.7100, +\\- 0.0619, Tempo: 28.34\n"
     ]
    }
   ],
   "source": [
    "for epoch in range(args['num_epochs']):\n",
    "    start = time.time()\n",
    "\n",
    "    epoch_loss = []\n",
    "   \n",
    "    for batch in train_loader:\n",
    "   \n",
    "        dado, rotulo = batch\n",
    "\n",
    "        # Cast na GPU\n",
    "        dado   = dado.to(args['device'])\n",
    "        rotulo = rotulo.to(args['device'])\n",
    "\n",
    "        # Forward\n",
    "        pred = net(dado)\n",
    "        loss = criterion(pred, rotulo)\n",
    "        epoch_loss.append(loss.cpu().data)\n",
    "\n",
    "        # Backward\n",
    "        loss.backward()\n",
    "        optimizer.step()\n",
    "\n",
    "    epoch_loss = np.asarray(epoch_loss)\n",
    "   \n",
    "    val_epoch_loss = []\n",
    "   \n",
    "    for batch in test_loader:\n",
    "       \n",
    "       \n",
    "        dado, rotulo = batch\n",
    "       \n",
    "        # cast na GPU\n",
    "       \n",
    "        dado   = dado.to(args['device'])\n",
    "        rotulo = rotulo.to(args['device'])\n",
    "       \n",
    "        # Forward\n",
    "        pred = net(dado)\n",
    "        loss = criterion(pred, rotulo)\n",
    "        val_epoch_loss.append(loss.cpu().data)\n",
    "       \n",
    "    val_epoch_loss = np.asarray(val_epoch_loss)\n",
    "   \n",
    "    end = time.time()\n",
    "\n",
    "    print(\"Epoca %d, Loss: %.4f, Val_Loss %.4f, +\\- %.4f, Tempo: %.2f\" % (epoch, epoch_loss.mean(),val_epoch_loss.mean(), epoch_loss.std(), end-start) )"
   ]
  },
  {
   "cell_type": "markdown",
   "metadata": {
    "colab_type": "text",
    "id": "WVQ3sTGC3SSL"
   },
   "source": [
    "### Interpretando a qualidade do modelo\n",
    "\n",
    "Apesar da loss ser o critério utilizado na otimização do modelo, seu valor é pouco interpretável por seres humanos.\n",
    "\n",
    "* *A loss está melhorando, mas como saber se meu modelo está bom mesmo?*\n",
    "\n",
    "Podemos calcular uma métrica mais interpretável. No caso da classificação, temos a acurácia como métrica mais simples de avaliação. Esse valor será usado exclusivamente para visualizar a qualidade do modelo, não interferindo no treinamento da rede. \n",
    "\n",
    "Podemos modificar a célula anterior para adicionar a etapa de teste e verificar a eveloução da acurária do modelo utilizaremos a biblioteca Scikit-Learn para calcular a acurácia, para isso basta\n",
    "* Armazenar os rótulos de cada iteração\n",
    "* Calcular a predição a partir da saída da rede\n",
    "* Utilizar a função do sklearn para cálculo da acurácia\n",
    "```python\n",
    "metrics.accuracy_score(rotulos, ypreds)\n",
    "```\n",
    "\n",
    "Documentação: https://scikit-learn.org/stable/modules/generated/sklearn.metrics.accuracy_score.html"
   ]
  },
  {
   "cell_type": "markdown",
   "metadata": {},
   "source": [
    "# Aplicando o modelo"
   ]
  },
  {
   "cell_type": "code",
   "execution_count": null,
   "metadata": {
    "ExecuteTime": {
     "start_time": "2023-07-29T19:39:29.827718400Z"
    }
   },
   "outputs": [],
   "source": [
    "def acuracia_rede(predict, rotulo):\n",
    "    predict = predict.cpu().tolist()\n",
    "    rotulo = rotulo.cpu().tolist()\n",
    "    \n",
    "    len_batch = len(predict)\n",
    "    \n",
    "    acertos = 0\n",
    "    \n",
    "    for i in range(len_batch):\n",
    "        if predict[i] == rotulo[i]:\n",
    "            acertos+=1\n",
    "    \n",
    "    print(acertos/len_batch)"
   ]
  },
  {
   "cell_type": "code",
   "execution_count": null,
   "metadata": {
    "ExecuteTime": {
     "start_time": "2023-07-29T19:39:29.843359100Z"
    }
   },
   "outputs": [],
   "source": [
    "for batch in test_loader:\n",
    "    dado, rotulo = batch\n",
    "       \n",
    "        # cast na GPU\n",
    "       \n",
    "    dado   = dado.to(args['device'])\n",
    "    rotulo = rotulo.to(args['device'])\n",
    "   \n",
    "    pred = net(dado)\n",
    "   \n",
    "    predicted_class = torch.argmax(pred, dim=1)\n",
    "   \n",
    "    #print(predicted_class.to('cpu').data)\n",
    "   \n",
    "    plt.figure()\n",
    "    plt.imshow(dado.to('cpu').data[0][0])\n",
    "    plt.title('Rotulo: '+ str(predicted_class[0]))\n",
    "    acuracia_rede(predicted_class, rotulo)\n",
    "    #print(pred)\n",
    "    break"
   ]
  },
  {
   "cell_type": "code",
   "execution_count": null,
   "metadata": {
    "ExecuteTime": {
     "start_time": "2023-07-29T19:39:29.843359100Z"
    }
   },
   "outputs": [],
   "source": []
  }
 ],
 "metadata": {
  "accelerator": "GPU",
  "colab": {
   "collapsed_sections": [],
   "name": "Carregamento de Dados.ipynb",
   "provenance": []
  },
  "kernelspec": {
   "display_name": "Python 3 (ipykernel)",
   "language": "python",
   "name": "python3"
  },
  "language_info": {
   "codemirror_mode": {
    "name": "ipython",
    "version": 3
   },
   "file_extension": ".py",
   "mimetype": "text/x-python",
   "name": "python",
   "nbconvert_exporter": "python",
   "pygments_lexer": "ipython3",
   "version": "3.11.4"
  }
 },
 "nbformat": 4,
 "nbformat_minor": 1
}
